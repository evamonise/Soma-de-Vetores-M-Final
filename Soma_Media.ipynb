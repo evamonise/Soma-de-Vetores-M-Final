{
  "nbformat": 4,
  "nbformat_minor": 0,
  "metadata": {
    "colab": {
      "provenance": [],
      "authorship_tag": "ABX9TyOUucVcuW1AvrgR+iG28crH",
      "include_colab_link": true
    },
    "kernelspec": {
      "name": "python3",
      "display_name": "Python 3"
    },
    "language_info": {
      "name": "python"
    }
  },
  "cells": [
    {
      "cell_type": "markdown",
      "metadata": {
        "id": "view-in-github",
        "colab_type": "text"
      },
      "source": [
        "<a href=\"https://colab.research.google.com/github/evamonise/Soma-de-Vetores-M-Final/blob/main/Soma_Media.ipynb\" target=\"_parent\"><img src=\"https://colab.research.google.com/assets/colab-badge.svg\" alt=\"Open In Colab\"/></a>"
      ]
    },
    {
      "cell_type": "markdown",
      "source": [],
      "metadata": {
        "id": "Fy86ygy1z9cj"
      }
    },
    {
      "cell_type": "code",
      "execution_count": 8,
      "metadata": {
        "colab": {
          "base_uri": "https://localhost:8080/"
        },
        "id": "3KK3pV57yD0_",
        "outputId": "1c744985-665c-45cb-9a0d-2b30a1908b41"
      },
      "outputs": [
        {
          "output_type": "stream",
          "name": "stdout",
          "text": [
            "Média final do estudante: 25.5\n"
          ]
        }
      ],
      "source": [
        "semestre1 = [9+5+8+4]\n",
        "semestre2 = [8+7+6+4]\n",
        "\n",
        "def calcular_media(notas):\n",
        "    soma = sum(notas)\n",
        "    media = soma / len(notas)\n",
        "    return media\n",
        "\n",
        "media_semestre1 = calcular_media(semestre1)\n",
        "media_semestre2 = calcular_media(semestre2)\n",
        "media_final = (media_semestre1 + media_semestre2) / 2\n",
        "print(\"Média final do estudante:\", media_final)\n"
      ]
    }
  ]
}